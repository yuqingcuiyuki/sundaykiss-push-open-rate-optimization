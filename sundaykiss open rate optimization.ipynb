{
 "cells": [
  {
   "cell_type": "code",
   "execution_count": 202,
   "metadata": {},
   "outputs": [],
   "source": [
    "import pandas as pd\n",
    "import plotly.express as px\n",
    "import warnings\n",
    "warnings.filterwarnings(\"ignore\")\n",
    "import numpy as np\n",
    "import matplotlib.pyplot as plt\n",
    "import seaborn as sns\n",
    "sns.set_style(\"white\")"
   ]
  },
  {
   "cell_type": "code",
   "execution_count": 133,
   "metadata": {
    "scrolled": true
   },
   "outputs": [
    {
     "data": {
      "text/html": [
       "<div>\n",
       "<style scoped>\n",
       "    .dataframe tbody tr th:only-of-type {\n",
       "        vertical-align: middle;\n",
       "    }\n",
       "\n",
       "    .dataframe tbody tr th {\n",
       "        vertical-align: top;\n",
       "    }\n",
       "\n",
       "    .dataframe thead th {\n",
       "        text-align: right;\n",
       "    }\n",
       "</style>\n",
       "<table border=\"1\" class=\"dataframe\">\n",
       "  <thead>\n",
       "    <tr style=\"text-align: right;\">\n",
       "      <th></th>\n",
       "      <th>Date</th>\n",
       "      <th>Weekday</th>\n",
       "      <th>Time</th>\n",
       "      <th>category</th>\n",
       "      <th>push length</th>\n",
       "      <th>total_noti_push_cnt</th>\n",
       "      <th>total_sess_cnt</th>\n",
       "      <th>open_rate</th>\n",
       "    </tr>\n",
       "  </thead>\n",
       "  <tbody>\n",
       "    <tr>\n",
       "      <th>0</th>\n",
       "      <td>2022-11-01</td>\n",
       "      <td>Tuesday</td>\n",
       "      <td>08:00</td>\n",
       "      <td>weather</td>\n",
       "      <td>29</td>\n",
       "      <td>33354</td>\n",
       "      <td>280</td>\n",
       "      <td>0.84%</td>\n",
       "    </tr>\n",
       "    <tr>\n",
       "      <th>1</th>\n",
       "      <td>2022-11-01</td>\n",
       "      <td>Tuesday</td>\n",
       "      <td>11:10</td>\n",
       "      <td>family</td>\n",
       "      <td>44</td>\n",
       "      <td>33375</td>\n",
       "      <td>94</td>\n",
       "      <td>0.28%</td>\n",
       "    </tr>\n",
       "    <tr>\n",
       "      <th>2</th>\n",
       "      <td>2022-11-01</td>\n",
       "      <td>Tuesday</td>\n",
       "      <td>13:00</td>\n",
       "      <td>health</td>\n",
       "      <td>30</td>\n",
       "      <td>33392</td>\n",
       "      <td>304</td>\n",
       "      <td>0.91%</td>\n",
       "    </tr>\n",
       "    <tr>\n",
       "      <th>3</th>\n",
       "      <td>2022-11-01</td>\n",
       "      <td>Tuesday</td>\n",
       "      <td>18:00</td>\n",
       "      <td>baby</td>\n",
       "      <td>33</td>\n",
       "      <td>33428</td>\n",
       "      <td>89</td>\n",
       "      <td>0.27%</td>\n",
       "    </tr>\n",
       "    <tr>\n",
       "      <th>4</th>\n",
       "      <td>2022-11-01</td>\n",
       "      <td>Tuesday</td>\n",
       "      <td>21:00</td>\n",
       "      <td>family</td>\n",
       "      <td>29</td>\n",
       "      <td>33442</td>\n",
       "      <td>246</td>\n",
       "      <td>0.74%</td>\n",
       "    </tr>\n",
       "  </tbody>\n",
       "</table>\n",
       "</div>"
      ],
      "text/plain": [
       "         Date   Weekday   Time category  push length  total_noti_push_cnt  \\\n",
       "0  2022-11-01  Tuesday   08:00  weather           29                33354   \n",
       "1  2022-11-01  Tuesday   11:10   family           44                33375   \n",
       "2  2022-11-01  Tuesday   13:00   health           30                33392   \n",
       "3  2022-11-01  Tuesday   18:00     baby           33                33428   \n",
       "4  2022-11-01  Tuesday   21:00   family           29                33442   \n",
       "\n",
       "   total_sess_cnt open_rate  \n",
       "0             280     0.84%  \n",
       "1              94     0.28%  \n",
       "2             304     0.91%  \n",
       "3              89     0.27%  \n",
       "4             246     0.74%  "
      ]
     },
     "execution_count": 133,
     "metadata": {},
     "output_type": "execute_result"
    }
   ],
   "source": [
    "data=pd.read_csv('SKcleaned.csv')\n",
    "data.head()"
   ]
  },
  {
   "cell_type": "markdown",
   "metadata": {},
   "source": [
    "### feature engineer: create frequency and length variable"
   ]
  },
  {
   "cell_type": "code",
   "execution_count": 134,
   "metadata": {},
   "outputs": [
    {
     "data": {
      "text/html": [
       "<div>\n",
       "<style scoped>\n",
       "    .dataframe tbody tr th:only-of-type {\n",
       "        vertical-align: middle;\n",
       "    }\n",
       "\n",
       "    .dataframe tbody tr th {\n",
       "        vertical-align: top;\n",
       "    }\n",
       "\n",
       "    .dataframe thead th {\n",
       "        text-align: right;\n",
       "    }\n",
       "</style>\n",
       "<table border=\"1\" class=\"dataframe\">\n",
       "  <thead>\n",
       "    <tr style=\"text-align: right;\">\n",
       "      <th></th>\n",
       "      <th>count</th>\n",
       "    </tr>\n",
       "    <tr>\n",
       "      <th>Date</th>\n",
       "      <th></th>\n",
       "    </tr>\n",
       "  </thead>\n",
       "  <tbody>\n",
       "    <tr>\n",
       "      <th>2022-11-01</th>\n",
       "      <td>6</td>\n",
       "    </tr>\n",
       "    <tr>\n",
       "      <th>2022-11-02</th>\n",
       "      <td>6</td>\n",
       "    </tr>\n",
       "    <tr>\n",
       "      <th>2022-11-03</th>\n",
       "      <td>6</td>\n",
       "    </tr>\n",
       "    <tr>\n",
       "      <th>2022-11-04</th>\n",
       "      <td>6</td>\n",
       "    </tr>\n",
       "    <tr>\n",
       "      <th>2022-11-05</th>\n",
       "      <td>7</td>\n",
       "    </tr>\n",
       "  </tbody>\n",
       "</table>\n",
       "</div>"
      ],
      "text/plain": [
       "            count\n",
       "Date             \n",
       "2022-11-01      6\n",
       "2022-11-02      6\n",
       "2022-11-03      6\n",
       "2022-11-04      6\n",
       "2022-11-05      7"
      ]
     },
     "execution_count": 134,
     "metadata": {},
     "output_type": "execute_result"
    }
   ],
   "source": [
    "data['Date'] = pd.to_datetime(data['Date'])\n",
    "\n",
    "# group the data by the date column\n",
    "groupbydate = data.groupby(by=data['Date'].dt.date).agg({'count'})['Date']\n",
    "groupbydate.head()"
   ]
  },
  {
   "cell_type": "code",
   "execution_count": 137,
   "metadata": {},
   "outputs": [],
   "source": [
    "# data=data.set_index('Date')\n",
    "groupbydate.index=groupbydate.index.astype('datetime64[ns]')\n",
    "data=data.join(groupbydate,on='Date')"
   ]
  },
  {
   "cell_type": "code",
   "execution_count": 140,
   "metadata": {},
   "outputs": [
    {
     "data": {
      "text/html": [
       "<div>\n",
       "<style scoped>\n",
       "    .dataframe tbody tr th:only-of-type {\n",
       "        vertical-align: middle;\n",
       "    }\n",
       "\n",
       "    .dataframe tbody tr th {\n",
       "        vertical-align: top;\n",
       "    }\n",
       "\n",
       "    .dataframe thead th {\n",
       "        text-align: right;\n",
       "    }\n",
       "</style>\n",
       "<table border=\"1\" class=\"dataframe\">\n",
       "  <thead>\n",
       "    <tr style=\"text-align: right;\">\n",
       "      <th></th>\n",
       "      <th>Date</th>\n",
       "      <th>Weekday</th>\n",
       "      <th>Time</th>\n",
       "      <th>category</th>\n",
       "      <th>push length</th>\n",
       "      <th>total_noti_push_cnt</th>\n",
       "      <th>total_sess_cnt</th>\n",
       "      <th>open_rate</th>\n",
       "      <th>frequency</th>\n",
       "    </tr>\n",
       "  </thead>\n",
       "  <tbody>\n",
       "    <tr>\n",
       "      <th>0</th>\n",
       "      <td>2022-11-01</td>\n",
       "      <td>Tuesday</td>\n",
       "      <td>08:00</td>\n",
       "      <td>weather</td>\n",
       "      <td>29</td>\n",
       "      <td>33354</td>\n",
       "      <td>280</td>\n",
       "      <td>0.84%</td>\n",
       "      <td>6</td>\n",
       "    </tr>\n",
       "    <tr>\n",
       "      <th>1</th>\n",
       "      <td>2022-11-01</td>\n",
       "      <td>Tuesday</td>\n",
       "      <td>11:10</td>\n",
       "      <td>family</td>\n",
       "      <td>44</td>\n",
       "      <td>33375</td>\n",
       "      <td>94</td>\n",
       "      <td>0.28%</td>\n",
       "      <td>6</td>\n",
       "    </tr>\n",
       "    <tr>\n",
       "      <th>2</th>\n",
       "      <td>2022-11-01</td>\n",
       "      <td>Tuesday</td>\n",
       "      <td>13:00</td>\n",
       "      <td>health</td>\n",
       "      <td>30</td>\n",
       "      <td>33392</td>\n",
       "      <td>304</td>\n",
       "      <td>0.91%</td>\n",
       "      <td>6</td>\n",
       "    </tr>\n",
       "    <tr>\n",
       "      <th>3</th>\n",
       "      <td>2022-11-01</td>\n",
       "      <td>Tuesday</td>\n",
       "      <td>18:00</td>\n",
       "      <td>baby</td>\n",
       "      <td>33</td>\n",
       "      <td>33428</td>\n",
       "      <td>89</td>\n",
       "      <td>0.27%</td>\n",
       "      <td>6</td>\n",
       "    </tr>\n",
       "    <tr>\n",
       "      <th>4</th>\n",
       "      <td>2022-11-01</td>\n",
       "      <td>Tuesday</td>\n",
       "      <td>21:00</td>\n",
       "      <td>family</td>\n",
       "      <td>29</td>\n",
       "      <td>33442</td>\n",
       "      <td>246</td>\n",
       "      <td>0.74%</td>\n",
       "      <td>6</td>\n",
       "    </tr>\n",
       "  </tbody>\n",
       "</table>\n",
       "</div>"
      ],
      "text/plain": [
       "        Date   Weekday   Time category  push length  total_noti_push_cnt  \\\n",
       "0 2022-11-01  Tuesday   08:00  weather           29                33354   \n",
       "1 2022-11-01  Tuesday   11:10   family           44                33375   \n",
       "2 2022-11-01  Tuesday   13:00   health           30                33392   \n",
       "3 2022-11-01  Tuesday   18:00     baby           33                33428   \n",
       "4 2022-11-01  Tuesday   21:00   family           29                33442   \n",
       "\n",
       "   total_sess_cnt open_rate  frequency  \n",
       "0             280     0.84%          6  \n",
       "1              94     0.28%          6  \n",
       "2             304     0.91%          6  \n",
       "3              89     0.27%          6  \n",
       "4             246     0.74%          6  "
      ]
     },
     "execution_count": 140,
     "metadata": {},
     "output_type": "execute_result"
    }
   ],
   "source": [
    "data=data.rename(columns = {'count':'frequency'})\n",
    "data.head()"
   ]
  },
  {
   "cell_type": "code",
   "execution_count": 99,
   "metadata": {},
   "outputs": [
    {
     "data": {
      "text/plain": [
       "array(['weather', 'family', 'health', 'baby', 'entertainment', 'shopping',\n",
       "       'edu', 'travel', 'cusine', 'other'], dtype=object)"
      ]
     },
     "execution_count": 99,
     "metadata": {},
     "output_type": "execute_result"
    }
   ],
   "source": [
    "data['category'].unique()"
   ]
  },
  {
   "cell_type": "code",
   "execution_count": 100,
   "metadata": {},
   "outputs": [
    {
     "data": {
      "text/plain": [
       "array(['Tuesday ', 'Wednesday ', 'Thursday ', 'Friday ', 'Saturday ',\n",
       "       'Sunday ', 'Monday '], dtype=object)"
      ]
     },
     "execution_count": 100,
     "metadata": {},
     "output_type": "execute_result"
    }
   ],
   "source": [
    "data['Weekday'].unique()"
   ]
  },
  {
   "cell_type": "code",
   "execution_count": 101,
   "metadata": {},
   "outputs": [
    {
     "data": {
      "text/plain": [
       "array(['08:00', '11:10', '13:00', '18:00', '21:00', '23:30', '11:00',\n",
       "       '22:00', '23:00', '16:00', '09:00', '19:31'], dtype=object)"
      ]
     },
     "execution_count": 101,
     "metadata": {},
     "output_type": "execute_result"
    }
   ],
   "source": [
    "data['Time'].unique()"
   ]
  },
  {
   "cell_type": "markdown",
   "metadata": {},
   "source": [
    "### one hot encode categorical variables: weekday, time, category"
   ]
  },
  {
   "cell_type": "code",
   "execution_count": 154,
   "metadata": {},
   "outputs": [
    {
     "data": {
      "text/html": [
       "<div>\n",
       "<style scoped>\n",
       "    .dataframe tbody tr th:only-of-type {\n",
       "        vertical-align: middle;\n",
       "    }\n",
       "\n",
       "    .dataframe tbody tr th {\n",
       "        vertical-align: top;\n",
       "    }\n",
       "\n",
       "    .dataframe thead th {\n",
       "        text-align: right;\n",
       "    }\n",
       "</style>\n",
       "<table border=\"1\" class=\"dataframe\">\n",
       "  <thead>\n",
       "    <tr style=\"text-align: right;\">\n",
       "      <th></th>\n",
       "      <th>Friday</th>\n",
       "      <th>Monday</th>\n",
       "      <th>Saturday</th>\n",
       "      <th>Sunday</th>\n",
       "      <th>Thursday</th>\n",
       "      <th>Tuesday</th>\n",
       "      <th>Wednesday</th>\n",
       "      <th>08:00</th>\n",
       "      <th>09:00</th>\n",
       "      <th>11:00</th>\n",
       "      <th>...</th>\n",
       "      <th>baby</th>\n",
       "      <th>cusine</th>\n",
       "      <th>edu</th>\n",
       "      <th>entertainment</th>\n",
       "      <th>family</th>\n",
       "      <th>health</th>\n",
       "      <th>other</th>\n",
       "      <th>shopping</th>\n",
       "      <th>travel</th>\n",
       "      <th>weather</th>\n",
       "    </tr>\n",
       "  </thead>\n",
       "  <tbody>\n",
       "    <tr>\n",
       "      <th>0</th>\n",
       "      <td>0.0</td>\n",
       "      <td>0.0</td>\n",
       "      <td>0.0</td>\n",
       "      <td>0.0</td>\n",
       "      <td>0.0</td>\n",
       "      <td>1.0</td>\n",
       "      <td>0.0</td>\n",
       "      <td>1.0</td>\n",
       "      <td>0.0</td>\n",
       "      <td>0.0</td>\n",
       "      <td>...</td>\n",
       "      <td>0.0</td>\n",
       "      <td>0.0</td>\n",
       "      <td>0.0</td>\n",
       "      <td>0.0</td>\n",
       "      <td>0.0</td>\n",
       "      <td>0.0</td>\n",
       "      <td>0.0</td>\n",
       "      <td>0.0</td>\n",
       "      <td>0.0</td>\n",
       "      <td>1.0</td>\n",
       "    </tr>\n",
       "    <tr>\n",
       "      <th>1</th>\n",
       "      <td>0.0</td>\n",
       "      <td>0.0</td>\n",
       "      <td>0.0</td>\n",
       "      <td>0.0</td>\n",
       "      <td>0.0</td>\n",
       "      <td>1.0</td>\n",
       "      <td>0.0</td>\n",
       "      <td>0.0</td>\n",
       "      <td>0.0</td>\n",
       "      <td>0.0</td>\n",
       "      <td>...</td>\n",
       "      <td>0.0</td>\n",
       "      <td>0.0</td>\n",
       "      <td>0.0</td>\n",
       "      <td>0.0</td>\n",
       "      <td>1.0</td>\n",
       "      <td>0.0</td>\n",
       "      <td>0.0</td>\n",
       "      <td>0.0</td>\n",
       "      <td>0.0</td>\n",
       "      <td>0.0</td>\n",
       "    </tr>\n",
       "    <tr>\n",
       "      <th>2</th>\n",
       "      <td>0.0</td>\n",
       "      <td>0.0</td>\n",
       "      <td>0.0</td>\n",
       "      <td>0.0</td>\n",
       "      <td>0.0</td>\n",
       "      <td>1.0</td>\n",
       "      <td>0.0</td>\n",
       "      <td>0.0</td>\n",
       "      <td>0.0</td>\n",
       "      <td>0.0</td>\n",
       "      <td>...</td>\n",
       "      <td>0.0</td>\n",
       "      <td>0.0</td>\n",
       "      <td>0.0</td>\n",
       "      <td>0.0</td>\n",
       "      <td>0.0</td>\n",
       "      <td>1.0</td>\n",
       "      <td>0.0</td>\n",
       "      <td>0.0</td>\n",
       "      <td>0.0</td>\n",
       "      <td>0.0</td>\n",
       "    </tr>\n",
       "    <tr>\n",
       "      <th>3</th>\n",
       "      <td>0.0</td>\n",
       "      <td>0.0</td>\n",
       "      <td>0.0</td>\n",
       "      <td>0.0</td>\n",
       "      <td>0.0</td>\n",
       "      <td>1.0</td>\n",
       "      <td>0.0</td>\n",
       "      <td>0.0</td>\n",
       "      <td>0.0</td>\n",
       "      <td>0.0</td>\n",
       "      <td>...</td>\n",
       "      <td>1.0</td>\n",
       "      <td>0.0</td>\n",
       "      <td>0.0</td>\n",
       "      <td>0.0</td>\n",
       "      <td>0.0</td>\n",
       "      <td>0.0</td>\n",
       "      <td>0.0</td>\n",
       "      <td>0.0</td>\n",
       "      <td>0.0</td>\n",
       "      <td>0.0</td>\n",
       "    </tr>\n",
       "    <tr>\n",
       "      <th>4</th>\n",
       "      <td>0.0</td>\n",
       "      <td>0.0</td>\n",
       "      <td>0.0</td>\n",
       "      <td>0.0</td>\n",
       "      <td>0.0</td>\n",
       "      <td>1.0</td>\n",
       "      <td>0.0</td>\n",
       "      <td>0.0</td>\n",
       "      <td>0.0</td>\n",
       "      <td>0.0</td>\n",
       "      <td>...</td>\n",
       "      <td>0.0</td>\n",
       "      <td>0.0</td>\n",
       "      <td>0.0</td>\n",
       "      <td>0.0</td>\n",
       "      <td>1.0</td>\n",
       "      <td>0.0</td>\n",
       "      <td>0.0</td>\n",
       "      <td>0.0</td>\n",
       "      <td>0.0</td>\n",
       "      <td>0.0</td>\n",
       "    </tr>\n",
       "  </tbody>\n",
       "</table>\n",
       "<p>5 rows × 29 columns</p>\n",
       "</div>"
      ],
      "text/plain": [
       "   Friday   Monday   Saturday   Sunday   Thursday   Tuesday   Wednesday   \\\n",
       "0      0.0      0.0        0.0      0.0        0.0       1.0         0.0   \n",
       "1      0.0      0.0        0.0      0.0        0.0       1.0         0.0   \n",
       "2      0.0      0.0        0.0      0.0        0.0       1.0         0.0   \n",
       "3      0.0      0.0        0.0      0.0        0.0       1.0         0.0   \n",
       "4      0.0      0.0        0.0      0.0        0.0       1.0         0.0   \n",
       "\n",
       "   08:00  09:00  11:00  ...  baby  cusine  edu  entertainment  family  health  \\\n",
       "0    1.0    0.0    0.0  ...   0.0     0.0  0.0            0.0     0.0     0.0   \n",
       "1    0.0    0.0    0.0  ...   0.0     0.0  0.0            0.0     1.0     0.0   \n",
       "2    0.0    0.0    0.0  ...   0.0     0.0  0.0            0.0     0.0     1.0   \n",
       "3    0.0    0.0    0.0  ...   1.0     0.0  0.0            0.0     0.0     0.0   \n",
       "4    0.0    0.0    0.0  ...   0.0     0.0  0.0            0.0     1.0     0.0   \n",
       "\n",
       "   other  shopping  travel  weather  \n",
       "0    0.0       0.0     0.0      1.0  \n",
       "1    0.0       0.0     0.0      0.0  \n",
       "2    0.0       0.0     0.0      0.0  \n",
       "3    0.0       0.0     0.0      0.0  \n",
       "4    0.0       0.0     0.0      0.0  \n",
       "\n",
       "[5 rows x 29 columns]"
      ]
     },
     "execution_count": 154,
     "metadata": {},
     "output_type": "execute_result"
    }
   ],
   "source": [
    "from sklearn.preprocessing import OneHotEncoder\n",
    "\n",
    "ohe=OneHotEncoder()\n",
    "feature_arr=ohe.fit_transform(data[['Weekday','Time','category']]).toarray()\n",
    "\n",
    "feature_label=ohe.categories_\n",
    "arr_str0 = list(map(lambda x: str(x), feature_label[0]))\n",
    "arr_str1 = list(map(lambda x: str(x), feature_label[1]))\n",
    "arr_str2 = list(map(lambda x: str(x), feature_label[2]))\n",
    "feature_label=np.concatenate((arr_str0,arr_str1,arr_str2))\n",
    "\n",
    "\n",
    "onehot_data=pd.DataFrame(feature_arr,columns=feature_label)\n",
    "onehot_data.shape\n",
    "onehot_data.head()"
   ]
  },
  {
   "cell_type": "code",
   "execution_count": 156,
   "metadata": {},
   "outputs": [
    {
     "data": {
      "text/html": [
       "<div>\n",
       "<style scoped>\n",
       "    .dataframe tbody tr th:only-of-type {\n",
       "        vertical-align: middle;\n",
       "    }\n",
       "\n",
       "    .dataframe tbody tr th {\n",
       "        vertical-align: top;\n",
       "    }\n",
       "\n",
       "    .dataframe thead th {\n",
       "        text-align: right;\n",
       "    }\n",
       "</style>\n",
       "<table border=\"1\" class=\"dataframe\">\n",
       "  <thead>\n",
       "    <tr style=\"text-align: right;\">\n",
       "      <th></th>\n",
       "      <th>push length</th>\n",
       "      <th>frequency</th>\n",
       "      <th>Friday</th>\n",
       "      <th>Monday</th>\n",
       "      <th>Saturday</th>\n",
       "      <th>Sunday</th>\n",
       "      <th>Thursday</th>\n",
       "      <th>Tuesday</th>\n",
       "      <th>Wednesday</th>\n",
       "      <th>08:00</th>\n",
       "      <th>...</th>\n",
       "      <th>baby</th>\n",
       "      <th>cusine</th>\n",
       "      <th>edu</th>\n",
       "      <th>entertainment</th>\n",
       "      <th>family</th>\n",
       "      <th>health</th>\n",
       "      <th>other</th>\n",
       "      <th>shopping</th>\n",
       "      <th>travel</th>\n",
       "      <th>weather</th>\n",
       "    </tr>\n",
       "  </thead>\n",
       "  <tbody>\n",
       "    <tr>\n",
       "      <th>0</th>\n",
       "      <td>29</td>\n",
       "      <td>6</td>\n",
       "      <td>0.0</td>\n",
       "      <td>0.0</td>\n",
       "      <td>0.0</td>\n",
       "      <td>0.0</td>\n",
       "      <td>0.0</td>\n",
       "      <td>1.0</td>\n",
       "      <td>0.0</td>\n",
       "      <td>1.0</td>\n",
       "      <td>...</td>\n",
       "      <td>0.0</td>\n",
       "      <td>0.0</td>\n",
       "      <td>0.0</td>\n",
       "      <td>0.0</td>\n",
       "      <td>0.0</td>\n",
       "      <td>0.0</td>\n",
       "      <td>0.0</td>\n",
       "      <td>0.0</td>\n",
       "      <td>0.0</td>\n",
       "      <td>1.0</td>\n",
       "    </tr>\n",
       "    <tr>\n",
       "      <th>1</th>\n",
       "      <td>44</td>\n",
       "      <td>6</td>\n",
       "      <td>0.0</td>\n",
       "      <td>0.0</td>\n",
       "      <td>0.0</td>\n",
       "      <td>0.0</td>\n",
       "      <td>0.0</td>\n",
       "      <td>1.0</td>\n",
       "      <td>0.0</td>\n",
       "      <td>0.0</td>\n",
       "      <td>...</td>\n",
       "      <td>0.0</td>\n",
       "      <td>0.0</td>\n",
       "      <td>0.0</td>\n",
       "      <td>0.0</td>\n",
       "      <td>1.0</td>\n",
       "      <td>0.0</td>\n",
       "      <td>0.0</td>\n",
       "      <td>0.0</td>\n",
       "      <td>0.0</td>\n",
       "      <td>0.0</td>\n",
       "    </tr>\n",
       "    <tr>\n",
       "      <th>2</th>\n",
       "      <td>30</td>\n",
       "      <td>6</td>\n",
       "      <td>0.0</td>\n",
       "      <td>0.0</td>\n",
       "      <td>0.0</td>\n",
       "      <td>0.0</td>\n",
       "      <td>0.0</td>\n",
       "      <td>1.0</td>\n",
       "      <td>0.0</td>\n",
       "      <td>0.0</td>\n",
       "      <td>...</td>\n",
       "      <td>0.0</td>\n",
       "      <td>0.0</td>\n",
       "      <td>0.0</td>\n",
       "      <td>0.0</td>\n",
       "      <td>0.0</td>\n",
       "      <td>1.0</td>\n",
       "      <td>0.0</td>\n",
       "      <td>0.0</td>\n",
       "      <td>0.0</td>\n",
       "      <td>0.0</td>\n",
       "    </tr>\n",
       "    <tr>\n",
       "      <th>3</th>\n",
       "      <td>33</td>\n",
       "      <td>6</td>\n",
       "      <td>0.0</td>\n",
       "      <td>0.0</td>\n",
       "      <td>0.0</td>\n",
       "      <td>0.0</td>\n",
       "      <td>0.0</td>\n",
       "      <td>1.0</td>\n",
       "      <td>0.0</td>\n",
       "      <td>0.0</td>\n",
       "      <td>...</td>\n",
       "      <td>1.0</td>\n",
       "      <td>0.0</td>\n",
       "      <td>0.0</td>\n",
       "      <td>0.0</td>\n",
       "      <td>0.0</td>\n",
       "      <td>0.0</td>\n",
       "      <td>0.0</td>\n",
       "      <td>0.0</td>\n",
       "      <td>0.0</td>\n",
       "      <td>0.0</td>\n",
       "    </tr>\n",
       "    <tr>\n",
       "      <th>4</th>\n",
       "      <td>29</td>\n",
       "      <td>6</td>\n",
       "      <td>0.0</td>\n",
       "      <td>0.0</td>\n",
       "      <td>0.0</td>\n",
       "      <td>0.0</td>\n",
       "      <td>0.0</td>\n",
       "      <td>1.0</td>\n",
       "      <td>0.0</td>\n",
       "      <td>0.0</td>\n",
       "      <td>...</td>\n",
       "      <td>0.0</td>\n",
       "      <td>0.0</td>\n",
       "      <td>0.0</td>\n",
       "      <td>0.0</td>\n",
       "      <td>1.0</td>\n",
       "      <td>0.0</td>\n",
       "      <td>0.0</td>\n",
       "      <td>0.0</td>\n",
       "      <td>0.0</td>\n",
       "      <td>0.0</td>\n",
       "    </tr>\n",
       "  </tbody>\n",
       "</table>\n",
       "<p>5 rows × 31 columns</p>\n",
       "</div>"
      ],
      "text/plain": [
       "   push length  frequency  Friday   Monday   Saturday   Sunday   Thursday   \\\n",
       "0           29          6      0.0      0.0        0.0      0.0        0.0   \n",
       "1           44          6      0.0      0.0        0.0      0.0        0.0   \n",
       "2           30          6      0.0      0.0        0.0      0.0        0.0   \n",
       "3           33          6      0.0      0.0        0.0      0.0        0.0   \n",
       "4           29          6      0.0      0.0        0.0      0.0        0.0   \n",
       "\n",
       "   Tuesday   Wednesday   08:00  ...  baby  cusine  edu  entertainment  family  \\\n",
       "0       1.0         0.0    1.0  ...   0.0     0.0  0.0            0.0     0.0   \n",
       "1       1.0         0.0    0.0  ...   0.0     0.0  0.0            0.0     1.0   \n",
       "2       1.0         0.0    0.0  ...   0.0     0.0  0.0            0.0     0.0   \n",
       "3       1.0         0.0    0.0  ...   1.0     0.0  0.0            0.0     0.0   \n",
       "4       1.0         0.0    0.0  ...   0.0     0.0  0.0            0.0     1.0   \n",
       "\n",
       "   health  other  shopping  travel  weather  \n",
       "0     0.0    0.0       0.0     0.0      1.0  \n",
       "1     0.0    0.0       0.0     0.0      0.0  \n",
       "2     1.0    0.0       0.0     0.0      0.0  \n",
       "3     0.0    0.0       0.0     0.0      0.0  \n",
       "4     0.0    0.0       0.0     0.0      0.0  \n",
       "\n",
       "[5 rows x 31 columns]"
      ]
     },
     "execution_count": 156,
     "metadata": {},
     "output_type": "execute_result"
    }
   ],
   "source": [
    "X=pd.concat([data[['push length','frequency']],onehot_data],axis=1)\n",
    "X.head()"
   ]
  },
  {
   "cell_type": "code",
   "execution_count": 165,
   "metadata": {},
   "outputs": [
    {
     "data": {
      "text/plain": [
       "0    0.84\n",
       "1    0.28\n",
       "2    0.91\n",
       "3    0.27\n",
       "4    0.74\n",
       "Name: open_rate, dtype: float64"
      ]
     },
     "execution_count": 165,
     "metadata": {},
     "output_type": "execute_result"
    }
   ],
   "source": [
    "Y=data.iloc[:,7].str.strip('%').astype(float)\n",
    "Y.head() #percentage"
   ]
  },
  {
   "cell_type": "markdown",
   "metadata": {},
   "source": [
    "### use decision tree regression to identify important features"
   ]
  },
  {
   "cell_type": "code",
   "execution_count": 166,
   "metadata": {},
   "outputs": [],
   "source": [
    "from sklearn.model_selection import train_test_split\n",
    "X_train, X_test, y_train, y_test = train_test_split(X, Y, test_size=0.2)"
   ]
  },
  {
   "cell_type": "code",
   "execution_count": 176,
   "metadata": {},
   "outputs": [
    {
     "name": "stdout",
     "output_type": "stream",
     "text": [
      "Test accuracy: 0.10\n"
     ]
    },
    {
     "data": {
      "text/plain": [
       "array([0.08088633, 0.21460831, 0.        , 0.        , 0.        ,\n",
       "       0.        , 0.        , 0.        , 0.00944224, 0.        ,\n",
       "       0.        , 0.        , 0.        , 0.        , 0.        ,\n",
       "       0.        , 0.        , 0.        , 0.        , 0.        ,\n",
       "       0.20231416, 0.        , 0.        , 0.13096718, 0.        ,\n",
       "       0.        , 0.        , 0.        , 0.        , 0.        ,\n",
       "       0.36178178])"
      ]
     },
     "execution_count": 176,
     "metadata": {},
     "output_type": "execute_result"
    }
   ],
   "source": [
    "from sklearn.tree import DecisionTreeRegressor\n",
    "\n",
    "# Train the model on the training data\n",
    "regressor = DecisionTreeRegressor(max_depth=3)\n",
    "regressor.fit(X_train, y_train)\n",
    "\n",
    "# Evaluate the model on the test data\n",
    "accuracy = regressor.score(X_test, y_test)\n",
    "print(f'Test accuracy: {accuracy:.2f}')\n",
    "\n",
    "regressor.feature_importances_"
   ]
  },
  {
   "cell_type": "code",
   "execution_count": 186,
   "metadata": {},
   "outputs": [
    {
     "data": {
      "text/plain": [
       "array([0.08088633, 0.21460831, 0.20231416, 0.13096718, 0.36178178])"
      ]
     },
     "execution_count": 186,
     "metadata": {},
     "output_type": "execute_result"
    }
   ],
   "source": [
    "regressor.feature_importances_[[0,1,20,23,30]]"
   ]
  },
  {
   "cell_type": "code",
   "execution_count": 184,
   "metadata": {},
   "outputs": [
    {
     "data": {
      "text/plain": [
       "Index(['push length', 'frequency', '23:30', 'edu', 'weather'], dtype='object')"
      ]
     },
     "execution_count": 184,
     "metadata": {},
     "output_type": "execute_result"
    }
   ],
   "source": [
    "X.columns[[0,1,20,23,30]]"
   ]
  },
  {
   "cell_type": "code",
   "execution_count": 187,
   "metadata": {},
   "outputs": [],
   "source": [
    "from sklearn.tree import plot_tree"
   ]
  },
  {
   "cell_type": "code",
   "execution_count": 190,
   "metadata": {
    "scrolled": false
   },
   "outputs": [
    {
     "data": {
      "text/plain": [
       "[Text(334.8, 380.52, 'X[30] <= 0.5\\nmse = 0.028\\nsamples = 188\\nvalue = 0.387'),\n",
       " Text(167.4, 271.8, 'X[1] <= 9.5\\nmse = 0.027\\nsamples = 175\\nvalue = 0.374'),\n",
       " Text(83.7, 163.07999999999998, 'X[20] <= 0.5\\nmse = 0.026\\nsamples = 144\\nvalue = 0.391'),\n",
       " Text(41.85, 54.360000000000014, 'mse = 0.021\\nsamples = 123\\nvalue = 0.375'),\n",
       " Text(125.55000000000001, 54.360000000000014, 'mse = 0.044\\nsamples = 21\\nvalue = 0.49'),\n",
       " Text(251.10000000000002, 163.07999999999998, 'X[23] <= 0.5\\nmse = 0.026\\nsamples = 31\\nvalue = 0.295'),\n",
       " Text(209.25, 54.360000000000014, 'mse = 0.019\\nsamples = 29\\nvalue = 0.276'),\n",
       " Text(292.95, 54.360000000000014, 'mse = 0.051\\nsamples = 2\\nvalue = 0.565'),\n",
       " Text(502.20000000000005, 271.8, 'X[0] <= 30.5\\nmse = 0.012\\nsamples = 13\\nvalue = 0.563'),\n",
       " Text(418.5, 163.07999999999998, 'X[8] <= 0.5\\nmse = 0.006\\nsamples = 2\\nvalue = 0.765'),\n",
       " Text(376.65000000000003, 54.360000000000014, 'mse = 0.0\\nsamples = 1\\nvalue = 0.84'),\n",
       " Text(460.35, 54.360000000000014, 'mse = 0.0\\nsamples = 1\\nvalue = 0.69'),\n",
       " Text(585.9, 163.07999999999998, 'X[1] <= 8.0\\nmse = 0.004\\nsamples = 11\\nvalue = 0.526'),\n",
       " Text(544.0500000000001, 54.360000000000014, 'mse = 0.003\\nsamples = 10\\nvalue = 0.539'),\n",
       " Text(627.75, 54.360000000000014, 'mse = -0.0\\nsamples = 1\\nvalue = 0.4')]"
      ]
     },
     "execution_count": 190,
     "metadata": {},
     "output_type": "execute_result"
    },
    {
     "data": {
      "image/png": "[encoded data removed]",
      "text/plain": [
       "<Figure size 864x576 with 1 Axes>"
      ]
     },
     "metadata": {
      "needs_background": "light"
     },
     "output_type": "display_data"
    }
   ],
   "source": [
    "fig, ax = plt.subplots(figsize=(12, 8))\n",
    "plot_tree(regressor, ax=ax)"
   ]
  },
  {
   "cell_type": "markdown",
   "metadata": {},
   "source": [
    "result: topic, frequency, time, push length are key factors (order by importance)"
   ]
  },
  {
   "cell_type": "markdown",
   "metadata": {},
   "source": [
    "### average open rate by topic"
   ]
  },
  {
   "cell_type": "code",
   "execution_count": 210,
   "metadata": {},
   "outputs": [
    {
     "name": "stdout",
     "output_type": "stream",
     "text": [
      "average open rate : 0.38570404907879374\n",
      "average open rate for weather: 0.5609285851720089\n",
      "average open rate for family: 0.3677477427202275\n",
      "average open rate for health: 0.42012739675547534\n",
      "average open rate for baby: 0.34896262275125256\n",
      "average open rate for shopping: 0.3009405488874851\n",
      "average open rate for entertainment: 0.38948221386636167\n",
      "average open rate for travel: 0.3457700411851826\n",
      "average open rate for edu: 0.3899319058510722\n",
      "average open rate for cuisine: 0.3674412596345682\n"
     ]
    }
   ],
   "source": [
    "#average open rate\n",
    "#by topic\n",
    "weather=data[data['category']=='weather']\n",
    "family=data[data['category']=='family']\n",
    "health=data[data['category']=='health']\n",
    "baby=data[data['category']=='baby']\n",
    "shopping =data[data['category']=='shopping']\n",
    "entertainment=data[data['category']=='entertainment']\n",
    "travel=data[data['category']=='travel']\n",
    "edu=data[data['category']=='edu']\n",
    "cusine=data[data['category']=='cusine']\n",
    "\n",
    "print('average open rate :',data['total_sess_cnt'].sum()/data['total_noti_push_cnt'].sum()*100)\n",
    "print('average open rate for weather:',weather['total_sess_cnt'].sum()/weather['total_noti_push_cnt'].sum()*100)\n",
    "print('average open rate for family:', family['total_sess_cnt'].sum()/family['total_noti_push_cnt'].sum()*100)\n",
    "print('average open rate for health:',health['total_sess_cnt'].sum()/health['total_noti_push_cnt'].sum()*100)\n",
    "print('average open rate for baby:', baby['total_sess_cnt'].sum()/baby['total_noti_push_cnt'].sum()*100)\n",
    "print('average open rate for shopping:',shopping['total_sess_cnt'].sum()/shopping['total_noti_push_cnt'].sum()*100)\n",
    "print('average open rate for entertainment:',entertainment['total_sess_cnt'].sum()/entertainment['total_noti_push_cnt'].sum()*100)\n",
    "print('average open rate for travel:',travel['total_sess_cnt'].sum()/travel['total_noti_push_cnt'].sum()*100)\n",
    "print('average open rate for edu:',edu['total_sess_cnt'].sum()/edu['total_noti_push_cnt'].sum()*100)\n",
    "print('average open rate for cuisine:',cusine['total_sess_cnt'].sum()/cusine['total_noti_push_cnt'].sum()*100)\n",
    "\n",
    "#must include weather and edu(幼儿园、中小学、教育), then by open rate choose health and entertainment \n",
    "#only pick four topics above average \n"
   ]
  },
  {
   "cell_type": "code",
   "execution_count": 251,
   "metadata": {},
   "outputs": [
    {
     "data": {
      "text/plain": [
       "<matplotlib.lines.Line2D at 0x25eb547c9a0>"
      ]
     },
     "execution_count": 251,
     "metadata": {},
     "output_type": "execute_result"
    },
    {
     "data": {
      "image/png": "[encoded data removed]",
      "text/plain": [
       "<Figure size 432x288 with 1 Axes>"
      ]
     },
     "metadata": {},
     "output_type": "display_data"
    }
   ],
   "source": [
    "x=['weather', 'family', 'health', 'baby', 'shopping', 'entertainment', 'travel','edu', 'cuisine']\n",
    "y=[0.5609285851720089,0.3677477427202275,0.42012739675547534,0.34896262275125256,0.3009405488874851,\n",
    "   0.38948221386636167,0.3457700411851826, 0.3899319058510722,0.3674412596345682]\n",
    "sns.barplot(y=x,x=y,orient='h', color='pink')\n",
    "plt.axvline(0.38570404907879374,color='hotpink',linestyle='--')"
   ]
  },
  {
   "cell_type": "markdown",
   "metadata": {},
   "source": [
    "### average open rate by frequency, find optimal push frequency"
   ]
  },
  {
   "cell_type": "code",
   "execution_count": 222,
   "metadata": {},
   "outputs": [
    {
     "data": {
      "text/plain": [
       "array([ 6,  7,  9, 10], dtype=int64)"
      ]
     },
     "execution_count": 222,
     "metadata": {},
     "output_type": "execute_result"
    }
   ],
   "source": [
    "#to check lower frequency is better\n",
    "data['frequency'].unique()"
   ]
  },
  {
   "cell_type": "code",
   "execution_count": 224,
   "metadata": {},
   "outputs": [
    {
     "name": "stdout",
     "output_type": "stream",
     "text": [
      "(88,)\n",
      "0.44125\n"
     ]
    }
   ],
   "source": [
    "low_freq=data[data['frequency']<=7]['open_rate'].str.strip('%').astype(float)\n",
    "print(low_freq.shape)\n",
    "print(low_freq.mean())"
   ]
  },
  {
   "cell_type": "code",
   "execution_count": 225,
   "metadata": {},
   "outputs": [
    {
     "name": "stdout",
     "output_type": "stream",
     "text": [
      "(148,)\n",
      "0.3537162162162162\n"
     ]
    }
   ],
   "source": [
    "high_freq=data[data['frequency']>7]['open_rate'].str.strip('%').astype(float)\n",
    "print(high_freq.shape)\n",
    "print(high_freq.mean())"
   ]
  },
  {
   "cell_type": "code",
   "execution_count": 237,
   "metadata": {},
   "outputs": [
    {
     "data": {
      "text/plain": [
       "<matplotlib.legend.Legend at 0x25eb4fa9a90>"
      ]
     },
     "execution_count": 237,
     "metadata": {},
     "output_type": "execute_result"
    },
    {
     "data": {
      "image/png": "[encoded data removed]",
      "text/plain": [
       "<Figure size 432x288 with 1 Axes>"
      ]
     },
     "metadata": {},
     "output_type": "display_data"
    }
   ],
   "source": [
    "sns.histplot(low_freq,color='pink')\n",
    "sns.histplot(high_freq,color='hotpink')\n",
    "plt.axvline(0.44125,color='pink',linestyle='--')\n",
    "plt.axvline(0.3537162162162162,color='hotpink',linestyle='--')\n",
    "plt.legend(labels=[\"low frequency push open rate\", \"high frequency push open rate\"])"
   ]
  },
  {
   "cell_type": "code",
   "execution_count": 230,
   "metadata": {},
   "outputs": [
    {
     "data": {
      "text/plain": [
       "0.00011017154209164323"
      ]
     },
     "execution_count": 230,
     "metadata": {},
     "output_type": "execute_result"
    }
   ],
   "source": [
    "from scipy import stats\n",
    "t, p = stats.ttest_ind(low_freq, high_freq, equal_var=False)\n",
    "p"
   ]
  },
  {
   "cell_type": "markdown",
   "metadata": {},
   "source": [
    "### average open rate by push length, find optimal push length: short title length better"
   ]
  },
  {
   "cell_type": "code",
   "execution_count": 236,
   "metadata": {},
   "outputs": [
    {
     "name": "stdout",
     "output_type": "stream",
     "text": [
      "32.940677966101696\n"
     ]
    },
    {
     "data": {
      "text/plain": [
       "<matplotlib.lines.Line2D at 0x25eb4f3e8e0>"
      ]
     },
     "execution_count": 236,
     "metadata": {},
     "output_type": "execute_result"
    },
    {
     "data": {
      "image/png": "[encoded data removed]",
      "text/plain": [
       "<Figure size 432x288 with 1 Axes>"
      ]
     },
     "metadata": {},
     "output_type": "display_data"
    }
   ],
   "source": [
    "print(X[X.columns[0]].mean() )#avg push length\n",
    "sns.histplot(X[X.columns[0]],color='pink')\n",
    "plt.axvline(32.940677966101696,color='hotpink',linestyle='--')"
   ]
  },
  {
   "cell_type": "code",
   "execution_count": 215,
   "metadata": {},
   "outputs": [
    {
     "name": "stdout",
     "output_type": "stream",
     "text": [
      "0.41763636363636353\n"
     ]
    }
   ],
   "source": [
    "short=data[data['push length']<32.940677966101696]['open_rate'].str.strip('%').astype(float)\n",
    "short.shape\n",
    "print(short.mean())"
   ]
  },
  {
   "cell_type": "code",
   "execution_count": 216,
   "metadata": {},
   "outputs": [
    {
     "name": "stdout",
     "output_type": "stream",
     "text": [
      "0.359047619047619\n"
     ]
    }
   ],
   "source": [
    "long=data[data['push length']>=32.940677966101696]['open_rate'].str.strip('%').astype(float)\n",
    "long.shape\n",
    "print(long.mean())"
   ]
  },
  {
   "cell_type": "code",
   "execution_count": 238,
   "metadata": {},
   "outputs": [
    {
     "data": {
      "text/plain": [
       "<matplotlib.legend.Legend at 0x25eb5045fa0>"
      ]
     },
     "execution_count": 238,
     "metadata": {},
     "output_type": "execute_result"
    },
    {
     "data": {
      "image/png": "[encoded data removed]",
      "text/plain": [
       "<Figure size 432x288 with 1 Axes>"
      ]
     },
     "metadata": {},
     "output_type": "display_data"
    }
   ],
   "source": [
    "sns.histplot(short,color='pink')\n",
    "sns.histplot(long,color='hotpink')\n",
    "plt.axvline(0.41763636363636353,color='pink',linestyle='--')\n",
    "plt.axvline(0.359047619047619,color='hotpink',linestyle='--')\n",
    "plt.legend(labels=[\"short length push open rate\", \"long length push open rate\"])"
   ]
  },
  {
   "cell_type": "code",
   "execution_count": 217,
   "metadata": {},
   "outputs": [
    {
     "data": {
      "text/plain": [
       "0.007577512625565662"
      ]
     },
     "execution_count": 217,
     "metadata": {},
     "output_type": "execute_result"
    }
   ],
   "source": [
    "from scipy import stats\n",
    "t, p = stats.ttest_ind(long, short, equal_var=False)\n",
    "p"
   ]
  },
  {
   "cell_type": "markdown",
   "metadata": {},
   "source": [
    "### find optimal push time for each topic"
   ]
  },
  {
   "cell_type": "markdown",
   "metadata": {},
   "source": [
    "weather"
   ]
  },
  {
   "cell_type": "code",
   "execution_count": 257,
   "metadata": {},
   "outputs": [
    {
     "data": {
      "text/html": [
       "<div>\n",
       "<style scoped>\n",
       "    .dataframe tbody tr th:only-of-type {\n",
       "        vertical-align: middle;\n",
       "    }\n",
       "\n",
       "    .dataframe tbody tr th {\n",
       "        vertical-align: top;\n",
       "    }\n",
       "\n",
       "    .dataframe thead th {\n",
       "        text-align: right;\n",
       "    }\n",
       "</style>\n",
       "<table border=\"1\" class=\"dataframe\">\n",
       "  <thead>\n",
       "    <tr style=\"text-align: right;\">\n",
       "      <th></th>\n",
       "      <th>Time</th>\n",
       "      <th>open_rate</th>\n",
       "    </tr>\n",
       "  </thead>\n",
       "  <tbody>\n",
       "    <tr>\n",
       "      <th>0</th>\n",
       "      <td>08:00</td>\n",
       "      <td>0.84%</td>\n",
       "    </tr>\n",
       "    <tr>\n",
       "      <th>6</th>\n",
       "      <td>08:00</td>\n",
       "      <td>0.69%</td>\n",
       "    </tr>\n",
       "    <tr>\n",
       "      <th>12</th>\n",
       "      <td>08:00</td>\n",
       "      <td>0.51%</td>\n",
       "    </tr>\n",
       "    <tr>\n",
       "      <th>18</th>\n",
       "      <td>08:00</td>\n",
       "      <td>0.51%</td>\n",
       "    </tr>\n",
       "    <tr>\n",
       "      <th>24</th>\n",
       "      <td>08:00</td>\n",
       "      <td>0.53%</td>\n",
       "    </tr>\n",
       "  </tbody>\n",
       "</table>\n",
       "</div>"
      ],
      "text/plain": [
       "     Time open_rate\n",
       "0   08:00     0.84%\n",
       "6   08:00     0.69%\n",
       "12  08:00     0.51%\n",
       "18  08:00     0.51%\n",
       "24  08:00     0.53%"
      ]
     },
     "execution_count": 257,
     "metadata": {},
     "output_type": "execute_result"
    }
   ],
   "source": [
    "data[data['category']=='weather'][['Time','open_rate']].head() #weather only 8:00"
   ]
  },
  {
   "cell_type": "code",
   "execution_count": 264,
   "metadata": {},
   "outputs": [
    {
     "name": "stdout",
     "output_type": "stream",
     "text": [
      "mean open rate of weather at 8:00 is 0.5609285851720089\n"
     ]
    }
   ],
   "source": [
    "print('mean open rate of weather at 8:00 is 0.5609285851720089')"
   ]
  },
  {
   "cell_type": "markdown",
   "metadata": {},
   "source": [
    "edu"
   ]
  },
  {
   "cell_type": "code",
   "execution_count": 265,
   "metadata": {},
   "outputs": [
    {
     "data": {
      "text/html": [
       "<div>\n",
       "<style scoped>\n",
       "    .dataframe tbody tr th:only-of-type {\n",
       "        vertical-align: middle;\n",
       "    }\n",
       "\n",
       "    .dataframe tbody tr th {\n",
       "        vertical-align: top;\n",
       "    }\n",
       "\n",
       "    .dataframe thead th {\n",
       "        text-align: right;\n",
       "    }\n",
       "</style>\n",
       "<table border=\"1\" class=\"dataframe\">\n",
       "  <thead>\n",
       "    <tr style=\"text-align: right;\">\n",
       "      <th></th>\n",
       "      <th>Time</th>\n",
       "      <th>open_rate</th>\n",
       "      <th>total_noti_push_cnt</th>\n",
       "      <th>total_sess_cnt</th>\n",
       "    </tr>\n",
       "  </thead>\n",
       "  <tbody>\n",
       "    <tr>\n",
       "      <th>135</th>\n",
       "      <td>11:00</td>\n",
       "      <td>0.25%</td>\n",
       "      <td>34622</td>\n",
       "      <td>87</td>\n",
       "    </tr>\n",
       "    <tr>\n",
       "      <th>154</th>\n",
       "      <td>16:00</td>\n",
       "      <td>0.29%</td>\n",
       "      <td>34971</td>\n",
       "      <td>103</td>\n",
       "    </tr>\n",
       "    <tr>\n",
       "      <th>15</th>\n",
       "      <td>18:00</td>\n",
       "      <td>0.29%</td>\n",
       "      <td>33291</td>\n",
       "      <td>97</td>\n",
       "    </tr>\n",
       "    <tr>\n",
       "      <th>41</th>\n",
       "      <td>18:00</td>\n",
       "      <td>0.27%</td>\n",
       "      <td>34190</td>\n",
       "      <td>94</td>\n",
       "    </tr>\n",
       "    <tr>\n",
       "      <th>110</th>\n",
       "      <td>18:00</td>\n",
       "      <td>0.28%</td>\n",
       "      <td>34763</td>\n",
       "      <td>97</td>\n",
       "    </tr>\n",
       "    <tr>\n",
       "      <th>137</th>\n",
       "      <td>18:00</td>\n",
       "      <td>0.41%</td>\n",
       "      <td>34657</td>\n",
       "      <td>142</td>\n",
       "    </tr>\n",
       "    <tr>\n",
       "      <th>146</th>\n",
       "      <td>18:00</td>\n",
       "      <td>0.80%</td>\n",
       "      <td>34835</td>\n",
       "      <td>279</td>\n",
       "    </tr>\n",
       "    <tr>\n",
       "      <th>183</th>\n",
       "      <td>18:00</td>\n",
       "      <td>0.34%</td>\n",
       "      <td>34917</td>\n",
       "      <td>117</td>\n",
       "    </tr>\n",
       "    <tr>\n",
       "      <th>221</th>\n",
       "      <td>18:00</td>\n",
       "      <td>0.40%</td>\n",
       "      <td>35583</td>\n",
       "      <td>143</td>\n",
       "    </tr>\n",
       "    <tr>\n",
       "      <th>230</th>\n",
       "      <td>18:00</td>\n",
       "      <td>0.79%</td>\n",
       "      <td>35712</td>\n",
       "      <td>282</td>\n",
       "    </tr>\n",
       "    <tr>\n",
       "      <th>131</th>\n",
       "      <td>23:00</td>\n",
       "      <td>0.14%</td>\n",
       "      <td>34577</td>\n",
       "      <td>49</td>\n",
       "    </tr>\n",
       "  </tbody>\n",
       "</table>\n",
       "</div>"
      ],
      "text/plain": [
       "      Time open_rate  total_noti_push_cnt  total_sess_cnt\n",
       "135  11:00     0.25%                34622              87\n",
       "154  16:00     0.29%                34971             103\n",
       "15   18:00     0.29%                33291              97\n",
       "41   18:00     0.27%                34190              94\n",
       "110  18:00     0.28%                34763              97\n",
       "137  18:00     0.41%                34657             142\n",
       "146  18:00     0.80%                34835             279\n",
       "183  18:00     0.34%                34917             117\n",
       "221  18:00     0.40%                35583             143\n",
       "230  18:00     0.79%                35712             282\n",
       "131  23:00     0.14%                34577              49"
      ]
     },
     "execution_count": 265,
     "metadata": {},
     "output_type": "execute_result"
    }
   ],
   "source": [
    "abt_edu=data[data['category']=='edu'][['Time','open_rate','total_noti_push_cnt','total_sess_cnt']].sort_values('Time')\n",
    "abt_edu"
   ]
  },
  {
   "cell_type": "code",
   "execution_count": 284,
   "metadata": {},
   "outputs": [],
   "source": [
    "#abt_edu[abt_edu['Time']=='18:00']['open_rate'].str.strip('%').astype(float).mean()"
   ]
  },
  {
   "cell_type": "code",
   "execution_count": 272,
   "metadata": {},
   "outputs": [
    {
     "name": "stdout",
     "output_type": "stream",
     "text": [
      "mean open rate of edu at 18:00 is 0.4500841884093427\n"
     ]
    }
   ],
   "source": [
    "print('mean open rate of edu at 18:00 is', abt_edu[abt_edu['Time']=='18:00']['total_sess_cnt'].sum()/abt_edu[abt_edu['Time']=='18:00']['total_noti_push_cnt'].sum()*100)"
   ]
  },
  {
   "cell_type": "code",
   "execution_count": null,
   "metadata": {},
   "outputs": [],
   "source": [
    "#edu(幼儿园、中小学、教育)\n",
    "#edu avg by time  (excel)\n",
    "# 11:00\t0.25%\n",
    "# 16:00\t0.29%\n",
    "# 18:00\t0.45% √\n",
    "# 23:00\t0.14%\n"
   ]
  },
  {
   "cell_type": "markdown",
   "metadata": {},
   "source": [
    "health"
   ]
  },
  {
   "cell_type": "code",
   "execution_count": 254,
   "metadata": {},
   "outputs": [
    {
     "data": {
      "text/html": [
       "<div>\n",
       "<style scoped>\n",
       "    .dataframe tbody tr th:only-of-type {\n",
       "        vertical-align: middle;\n",
       "    }\n",
       "\n",
       "    .dataframe tbody tr th {\n",
       "        vertical-align: top;\n",
       "    }\n",
       "\n",
       "    .dataframe thead th {\n",
       "        text-align: right;\n",
       "    }\n",
       "</style>\n",
       "<table border=\"1\" class=\"dataframe\">\n",
       "  <thead>\n",
       "    <tr style=\"text-align: right;\">\n",
       "      <th></th>\n",
       "      <th>hour</th>\n",
       "      <th>health sum</th>\n",
       "      <th>entertainment sum</th>\n",
       "    </tr>\n",
       "  </thead>\n",
       "  <tbody>\n",
       "    <tr>\n",
       "      <th>0</th>\n",
       "      <td>0</td>\n",
       "      <td>179</td>\n",
       "      <td>2145</td>\n",
       "    </tr>\n",
       "    <tr>\n",
       "      <th>1</th>\n",
       "      <td>1</td>\n",
       "      <td>94</td>\n",
       "      <td>1134</td>\n",
       "    </tr>\n",
       "    <tr>\n",
       "      <th>2</th>\n",
       "      <td>2</td>\n",
       "      <td>54</td>\n",
       "      <td>622</td>\n",
       "    </tr>\n",
       "    <tr>\n",
       "      <th>3</th>\n",
       "      <td>3</td>\n",
       "      <td>33</td>\n",
       "      <td>419</td>\n",
       "    </tr>\n",
       "    <tr>\n",
       "      <th>4</th>\n",
       "      <td>4</td>\n",
       "      <td>36</td>\n",
       "      <td>323</td>\n",
       "    </tr>\n",
       "  </tbody>\n",
       "</table>\n",
       "</div>"
      ],
      "text/plain": [
       "   hour  health sum  entertainment sum\n",
       "0     0         179               2145\n",
       "1     1          94               1134\n",
       "2     2          54                622\n",
       "3     3          33                419\n",
       "4     4          36                323"
      ]
     },
     "execution_count": 254,
     "metadata": {},
     "output_type": "execute_result"
    }
   ],
   "source": [
    "time=pd.read_csv('time data.csv')\n",
    "time.head()"
   ]
  },
  {
   "cell_type": "code",
   "execution_count": 314,
   "metadata": {},
   "outputs": [
    {
     "data": {
      "text/plain": [
       "<matplotlib.lines.Line2D at 0x25eb6c47790>"
      ]
     },
     "execution_count": 314,
     "metadata": {},
     "output_type": "execute_result"
    },
    {
     "data": {
      "image/png": "[encoded data removed]",
      "text/plain": [
       "<Figure size 432x288 with 1 Axes>"
      ]
     },
     "metadata": {},
     "output_type": "display_data"
    }
   ],
   "source": [
    "sns.lineplot(x=np.arange(0,24,1),y=time['health sum'],color='hotpink',marker='.',markersize=10)\n",
    "arr=np.arange(0,24,1)\n",
    "arr=np.array(list(map(str, arr)))\n",
    "plt.xticks(ticks=np.arange(0,24,1),labels=arr)\n",
    "plt.axvline(13,color='pink',linestyle='--')"
   ]
  },
  {
   "cell_type": "code",
   "execution_count": 290,
   "metadata": {},
   "outputs": [
    {
     "data": {
      "text/html": [
       "<div>\n",
       "<style scoped>\n",
       "    .dataframe tbody tr th:only-of-type {\n",
       "        vertical-align: middle;\n",
       "    }\n",
       "\n",
       "    .dataframe tbody tr th {\n",
       "        vertical-align: top;\n",
       "    }\n",
       "\n",
       "    .dataframe thead th {\n",
       "        text-align: right;\n",
       "    }\n",
       "</style>\n",
       "<table border=\"1\" class=\"dataframe\">\n",
       "  <thead>\n",
       "    <tr style=\"text-align: right;\">\n",
       "      <th></th>\n",
       "      <th>Time</th>\n",
       "      <th>open_rate</th>\n",
       "      <th>total_noti_push_cnt</th>\n",
       "      <th>total_sess_cnt</th>\n",
       "    </tr>\n",
       "  </thead>\n",
       "  <tbody>\n",
       "    <tr>\n",
       "      <th>2</th>\n",
       "      <td>13:00</td>\n",
       "      <td>0.91%</td>\n",
       "      <td>33392</td>\n",
       "      <td>304</td>\n",
       "    </tr>\n",
       "    <tr>\n",
       "      <th>209</th>\n",
       "      <td>13:00</td>\n",
       "      <td>0.35%</td>\n",
       "      <td>35413</td>\n",
       "      <td>123</td>\n",
       "    </tr>\n",
       "    <tr>\n",
       "      <th>201</th>\n",
       "      <td>13:00</td>\n",
       "      <td>0.24%</td>\n",
       "      <td>35263</td>\n",
       "      <td>86</td>\n",
       "    </tr>\n",
       "    <tr>\n",
       "      <th>192</th>\n",
       "      <td>13:00</td>\n",
       "      <td>0.38%</td>\n",
       "      <td>35045</td>\n",
       "      <td>133</td>\n",
       "    </tr>\n",
       "    <tr>\n",
       "      <th>181</th>\n",
       "      <td>13:00</td>\n",
       "      <td>0.44%</td>\n",
       "      <td>34861</td>\n",
       "      <td>153</td>\n",
       "    </tr>\n",
       "  </tbody>\n",
       "</table>\n",
       "</div>"
      ],
      "text/plain": [
       "      Time open_rate  total_noti_push_cnt  total_sess_cnt\n",
       "2    13:00     0.91%                33392             304\n",
       "209  13:00     0.35%                35413             123\n",
       "201  13:00     0.24%                35263              86\n",
       "192  13:00     0.38%                35045             133\n",
       "181  13:00     0.44%                34861             153"
      ]
     },
     "execution_count": 290,
     "metadata": {},
     "output_type": "execute_result"
    }
   ],
   "source": [
    "#health at 13:00\n",
    "\n",
    "abt_heal=data[(data['category']=='health')&(data['Time']=='13:00')][['Time','open_rate','total_noti_push_cnt','total_sess_cnt']].sort_values('Time')\n",
    "abt_heal.head()"
   ]
  },
  {
   "cell_type": "code",
   "execution_count": 317,
   "metadata": {},
   "outputs": [
    {
     "data": {
      "text/plain": [
       "0.4203571428571428"
      ]
     },
     "execution_count": 317,
     "metadata": {},
     "output_type": "execute_result"
    }
   ],
   "source": [
    "#abt_heal[abt_heal['Time']=='13:00']['open_rate'].str.strip('%').astype(float).mean()"
   ]
  },
  {
   "cell_type": "code",
   "execution_count": 318,
   "metadata": {},
   "outputs": [
    {
     "name": "stdout",
     "output_type": "stream",
     "text": [
      "mean open rate of health at 13:00 is 0.4199036174960185\n"
     ]
    }
   ],
   "source": [
    "print('mean open rate of health at 13:00 is', abt_heal[abt_heal['Time']=='13:00']['total_sess_cnt'].sum()/abt_heal[abt_heal['Time']=='13:00']['total_noti_push_cnt'].sum()*100)"
   ]
  },
  {
   "cell_type": "markdown",
   "metadata": {},
   "source": [
    "entertainment"
   ]
  },
  {
   "cell_type": "code",
   "execution_count": 320,
   "metadata": {},
   "outputs": [
    {
     "data": {
      "text/plain": [
       "<matplotlib.lines.Line2D at 0x25eb6d2a9d0>"
      ]
     },
     "execution_count": 320,
     "metadata": {},
     "output_type": "execute_result"
    },
    {
     "data": {
      "image/png": "[encoded data removed]",
      "text/plain": [
       "<Figure size 432x288 with 1 Axes>"
      ]
     },
     "metadata": {},
     "output_type": "display_data"
    }
   ],
   "source": [
    "sns.lineplot(x=np.arange(0,24,1),y=time['entertainment sum'],color='hotpink',marker='.',markersize=10)\n",
    "arr=np.arange(0,24,1)\n",
    "arr=np.array(list(map(str, arr)))\n",
    "plt.xticks(ticks=np.arange(0,24,1),labels=arr)\n",
    "plt.axvline(23,color='pink',linestyle='--')"
   ]
  },
  {
   "cell_type": "code",
   "execution_count": 321,
   "metadata": {},
   "outputs": [
    {
     "data": {
      "text/html": [
       "<div>\n",
       "<style scoped>\n",
       "    .dataframe tbody tr th:only-of-type {\n",
       "        vertical-align: middle;\n",
       "    }\n",
       "\n",
       "    .dataframe tbody tr th {\n",
       "        vertical-align: top;\n",
       "    }\n",
       "\n",
       "    .dataframe thead th {\n",
       "        text-align: right;\n",
       "    }\n",
       "</style>\n",
       "<table border=\"1\" class=\"dataframe\">\n",
       "  <thead>\n",
       "    <tr style=\"text-align: right;\">\n",
       "      <th></th>\n",
       "      <th>Time</th>\n",
       "      <th>open_rate</th>\n",
       "      <th>total_noti_push_cnt</th>\n",
       "      <th>total_sess_cnt</th>\n",
       "    </tr>\n",
       "  </thead>\n",
       "  <tbody>\n",
       "    <tr>\n",
       "      <th>37</th>\n",
       "      <td>23:00</td>\n",
       "      <td>0.25%</td>\n",
       "      <td>34101</td>\n",
       "      <td>86</td>\n",
       "    </tr>\n",
       "    <tr>\n",
       "      <th>74</th>\n",
       "      <td>23:00</td>\n",
       "      <td>1.15%</td>\n",
       "      <td>34318</td>\n",
       "      <td>395</td>\n",
       "    </tr>\n",
       "    <tr>\n",
       "      <th>81</th>\n",
       "      <td>23:00</td>\n",
       "      <td>0.34%</td>\n",
       "      <td>34425</td>\n",
       "      <td>116</td>\n",
       "    </tr>\n",
       "    <tr>\n",
       "      <th>104</th>\n",
       "      <td>23:00</td>\n",
       "      <td>0.17%</td>\n",
       "      <td>34722</td>\n",
       "      <td>60</td>\n",
       "    </tr>\n",
       "    <tr>\n",
       "      <th>149</th>\n",
       "      <td>23:00</td>\n",
       "      <td>0.32%</td>\n",
       "      <td>34897</td>\n",
       "      <td>110</td>\n",
       "    </tr>\n",
       "  </tbody>\n",
       "</table>\n",
       "</div>"
      ],
      "text/plain": [
       "      Time open_rate  total_noti_push_cnt  total_sess_cnt\n",
       "37   23:00     0.25%                34101              86\n",
       "74   23:00     1.15%                34318             395\n",
       "81   23:00     0.34%                34425             116\n",
       "104  23:00     0.17%                34722              60\n",
       "149  23:00     0.32%                34897             110"
      ]
     },
     "execution_count": 321,
     "metadata": {},
     "output_type": "execute_result"
    }
   ],
   "source": [
    "#entertainment at 23:00\n",
    "\n",
    "abt_ent=data[(data['category']=='entertainment')&(data['Time']=='23:00')][['Time','open_rate','total_noti_push_cnt','total_sess_cnt']].sort_values('Time')\n",
    "abt_ent.head()"
   ]
  },
  {
   "cell_type": "code",
   "execution_count": 322,
   "metadata": {},
   "outputs": [
    {
     "data": {
      "text/plain": [
       "0.3433333333333334"
      ]
     },
     "execution_count": 322,
     "metadata": {},
     "output_type": "execute_result"
    }
   ],
   "source": [
    "#abt_ent[abt_ent['Time']=='23:00']['open_rate'].str.strip('%').astype(float).mean()"
   ]
  },
  {
   "cell_type": "code",
   "execution_count": 323,
   "metadata": {},
   "outputs": [
    {
     "name": "stdout",
     "output_type": "stream",
     "text": [
      "mean open rate of entertainment at 23:00 is 0.34037973514699377\n"
     ]
    }
   ],
   "source": [
    "print('mean open rate of entertainment at 23:00 is', \n",
    "      abt_ent[abt_ent['Time']=='23:00']['total_sess_cnt'].sum()/abt_ent[abt_ent['Time']=='23:00']['total_noti_push_cnt'].sum()*100)"
   ]
  },
  {
   "cell_type": "markdown",
   "metadata": {},
   "source": [
    "### one-day push schedule:"
   ]
  },
  {
   "cell_type": "markdown",
   "metadata": {},
   "source": [
    "- Weather (8:00)\n",
    "- Health (13:00)\n",
    "- Edu (18:00)\n",
    "- Entertainment (23:00)\n"
   ]
  },
  {
   "cell_type": "code",
   "execution_count": 330,
   "metadata": {},
   "outputs": [
    {
     "name": "stdout",
     "output_type": "stream",
     "text": [
      "open rate of one day push schedule is (%) 0.442824031556091\n"
     ]
    }
   ],
   "source": [
    "print('open rate of one day push schedule is (%)',(0.34037973514699377+0.4199036174960185+0.4500841884093427+0.5609285851720089)/4)"
   ]
  },
  {
   "cell_type": "code",
   "execution_count": 329,
   "metadata": {},
   "outputs": [
    {
     "name": "stdout",
     "output_type": "stream",
     "text": [
      "increase % : 0.14809277375677352\n"
     ]
    }
   ],
   "source": [
    "print('increase % :',(0.442824031556091-0.38570404907879374)/0.38570404907879374)"
   ]
  },
  {
   "cell_type": "code",
   "execution_count": null,
   "metadata": {},
   "outputs": [],
   "source": []
  }
 ],
 "metadata": {
  "kernelspec": {
   "display_name": "Python 3",
   "language": "python",
   "name": "python3"
  },
  "language_info": {
   "codemirror_mode": {
    "name": "ipython",
    "version": 3
   },
   "file_extension": ".py",
   "mimetype": "text/x-python",
   "name": "python",
   "nbconvert_exporter": "python",
   "pygments_lexer": "ipython3",
   "version": "3.8.3"
  }
 },
 "nbformat": 4,
 "nbformat_minor": 4
}
